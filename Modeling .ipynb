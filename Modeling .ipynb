{
 "cells": [
  {
   "cell_type": "code",
   "execution_count": 1,
   "id": "ed77f762-4863-4b2f-994d-a32a6aaac7e0",
   "metadata": {},
   "outputs": [],
   "source": [
    "import pandas as pd\n",
    "import numpy as np"
   ]
  },
  {
   "cell_type": "code",
   "execution_count": 2,
   "id": "f6a2e9b8-c37d-4956-8973-5566b637d3f6",
   "metadata": {},
   "outputs": [],
   "source": [
    "df = pd.read_csv('H&M_dataset.csv')"
   ]
  },
  {
   "cell_type": "code",
   "execution_count": 3,
   "id": "90001112-248b-4cb9-8692-5bb08bcc3b6d",
   "metadata": {},
   "outputs": [
    {
     "data": {
      "text/html": [
       "<div>\n",
       "<style scoped>\n",
       "    .dataframe tbody tr th:only-of-type {\n",
       "        vertical-align: middle;\n",
       "    }\n",
       "\n",
       "    .dataframe tbody tr th {\n",
       "        vertical-align: top;\n",
       "    }\n",
       "\n",
       "    .dataframe thead th {\n",
       "        text-align: right;\n",
       "    }\n",
       "</style>\n",
       "<table border=\"1\" class=\"dataframe\">\n",
       "  <thead>\n",
       "    <tr style=\"text-align: right;\">\n",
       "      <th></th>\n",
       "      <th>Unnamed: 0</th>\n",
       "      <th>productId</th>\n",
       "      <th>productName</th>\n",
       "      <th>brandName</th>\n",
       "      <th>url</th>\n",
       "      <th>price</th>\n",
       "      <th>stockState</th>\n",
       "      <th>comingSoon</th>\n",
       "      <th>colorName</th>\n",
       "      <th>isOnline</th>\n",
       "      <th>colors</th>\n",
       "      <th>colorShades</th>\n",
       "      <th>newArrival</th>\n",
       "      <th>mainCatCode</th>\n",
       "      <th>details</th>\n",
       "      <th>materials</th>\n",
       "    </tr>\n",
       "  </thead>\n",
       "  <tbody>\n",
       "    <tr>\n",
       "      <th>0</th>\n",
       "      <td>0</td>\n",
       "      <td>834333001</td>\n",
       "      <td>Derby Shoes</td>\n",
       "      <td>H&amp;M</td>\n",
       "      <td>https://www2.hm.com/en_us/productpage.08343330...</td>\n",
       "      <td>49.99</td>\n",
       "      <td>Available</td>\n",
       "      <td>False</td>\n",
       "      <td>Black</td>\n",
       "      <td>True</td>\n",
       "      <td>272628</td>\n",
       "      <td>Charcoal</td>\n",
       "      <td>False</td>\n",
       "      <td>men_shoes_dressed</td>\n",
       "      <td>Derby shoes with open lacing at front. Canvas ...</td>\n",
       "      <td>COMPOSITION\\nSole:Thermoplastic rubber 100%\\nU...</td>\n",
       "    </tr>\n",
       "    <tr>\n",
       "      <th>1</th>\n",
       "      <td>1</td>\n",
       "      <td>1258600003</td>\n",
       "      <td>Pile-Lined Slippers</td>\n",
       "      <td>H&amp;M</td>\n",
       "      <td>https://www2.hm.com/en_us/productpage.12586000...</td>\n",
       "      <td>24.99</td>\n",
       "      <td>Available</td>\n",
       "      <td>False</td>\n",
       "      <td>Black</td>\n",
       "      <td>True</td>\n",
       "      <td>272628</td>\n",
       "      <td>Charcoal</td>\n",
       "      <td>False</td>\n",
       "      <td>men_shoes_slippers</td>\n",
       "      <td>Slippers in napped fabric. Decorative seam at ...</td>\n",
       "      <td>COMPOSITION\\nLining:Polyester 100%\\nUpper:Poly...</td>\n",
       "    </tr>\n",
       "    <tr>\n",
       "      <th>2</th>\n",
       "      <td>2</td>\n",
       "      <td>1036812001</td>\n",
       "      <td>Derby Shoes</td>\n",
       "      <td>H&amp;M</td>\n",
       "      <td>https://www2.hm.com/en_us/productpage.10368120...</td>\n",
       "      <td>56.99</td>\n",
       "      <td>Available</td>\n",
       "      <td>False</td>\n",
       "      <td>Black</td>\n",
       "      <td>True</td>\n",
       "      <td>272628</td>\n",
       "      <td>Charcoal</td>\n",
       "      <td>False</td>\n",
       "      <td>men_shoes_dressed</td>\n",
       "      <td>Derby shoes in soft faux suede with open lacin...</td>\n",
       "      <td>COMPOSITION\\nLining and insole:Cotton 100%\\nUp...</td>\n",
       "    </tr>\n",
       "  </tbody>\n",
       "</table>\n",
       "</div>"
      ],
      "text/plain": [
       "   Unnamed: 0   productId          productName brandName  \\\n",
       "0           0   834333001          Derby Shoes       H&M   \n",
       "1           1  1258600003  Pile-Lined Slippers       H&M   \n",
       "2           2  1036812001          Derby Shoes       H&M   \n",
       "\n",
       "                                                 url  price stockState  \\\n",
       "0  https://www2.hm.com/en_us/productpage.08343330...  49.99  Available   \n",
       "1  https://www2.hm.com/en_us/productpage.12586000...  24.99  Available   \n",
       "2  https://www2.hm.com/en_us/productpage.10368120...  56.99  Available   \n",
       "\n",
       "   comingSoon colorName  isOnline  colors colorShades  newArrival  \\\n",
       "0       False     Black      True  272628    Charcoal       False   \n",
       "1       False     Black      True  272628    Charcoal       False   \n",
       "2       False     Black      True  272628    Charcoal       False   \n",
       "\n",
       "          mainCatCode                                            details  \\\n",
       "0   men_shoes_dressed  Derby shoes with open lacing at front. Canvas ...   \n",
       "1  men_shoes_slippers  Slippers in napped fabric. Decorative seam at ...   \n",
       "2   men_shoes_dressed  Derby shoes in soft faux suede with open lacin...   \n",
       "\n",
       "                                           materials  \n",
       "0  COMPOSITION\\nSole:Thermoplastic rubber 100%\\nU...  \n",
       "1  COMPOSITION\\nLining:Polyester 100%\\nUpper:Poly...  \n",
       "2  COMPOSITION\\nLining and insole:Cotton 100%\\nUp...  "
      ]
     },
     "execution_count": 3,
     "metadata": {},
     "output_type": "execute_result"
    }
   ],
   "source": [
    "df.head(3)"
   ]
  },
  {
   "cell_type": "code",
   "execution_count": 4,
   "id": "bfa813c5-99b8-43ee-aa65-ca293545994f",
   "metadata": {},
   "outputs": [
    {
     "data": {
      "text/plain": [
       "(9677, 16)"
      ]
     },
     "execution_count": 4,
     "metadata": {},
     "output_type": "execute_result"
    }
   ],
   "source": [
    "df.shape"
   ]
  },
  {
   "cell_type": "code",
   "execution_count": 5,
   "id": "6038be43-9caa-461f-8f3b-b278c3658323",
   "metadata": {},
   "outputs": [
    {
     "data": {
      "text/plain": [
       "Unnamed: 0        0\n",
       "productId         0\n",
       "productName       0\n",
       "brandName         0\n",
       "url               0\n",
       "price             0\n",
       "stockState        0\n",
       "comingSoon        0\n",
       "colorName         0\n",
       "isOnline          0\n",
       "colors            0\n",
       "colorShades    3166\n",
       "newArrival        0\n",
       "mainCatCode       0\n",
       "details           1\n",
       "materials       159\n",
       "dtype: int64"
      ]
     },
     "execution_count": 5,
     "metadata": {},
     "output_type": "execute_result"
    }
   ],
   "source": [
    "df.isnull().sum() #checking null values"
   ]
  },
  {
   "cell_type": "code",
   "execution_count": 6,
   "id": "0a0fad9a-be93-4eec-abcc-b01a7505b81d",
   "metadata": {},
   "outputs": [
    {
     "data": {
      "text/plain": [
       "9677"
      ]
     },
     "execution_count": 6,
     "metadata": {},
     "output_type": "execute_result"
    }
   ],
   "source": [
    "df['Unnamed: 0'].nunique() "
   ]
  },
  {
   "cell_type": "code",
   "execution_count": 7,
   "id": "485df7b2-6e04-4f3b-9f43-538849a54970",
   "metadata": {},
   "outputs": [
    {
     "data": {
      "text/plain": [
       "7671"
      ]
     },
     "execution_count": 7,
     "metadata": {},
     "output_type": "execute_result"
    }
   ],
   "source": [
    "df['productId'].nunique()"
   ]
  },
  {
   "cell_type": "code",
   "execution_count": 8,
   "id": "f98bc5af-0806-4c02-8ef7-0be45ece3e2d",
   "metadata": {},
   "outputs": [
    {
     "data": {
      "text/plain": [
       "3246"
      ]
     },
     "execution_count": 8,
     "metadata": {},
     "output_type": "execute_result"
    }
   ],
   "source": [
    "df['productName'].nunique()"
   ]
  },
  {
   "cell_type": "code",
   "execution_count": 9,
   "id": "0d86734c-1430-44c9-b119-dcc4fcb6e5e8",
   "metadata": {},
   "outputs": [
    {
     "data": {
      "text/plain": [
       "array(['H&M'], dtype=object)"
      ]
     },
     "execution_count": 9,
     "metadata": {},
     "output_type": "execute_result"
    }
   ],
   "source": [
    "df['brandName'].unique()"
   ]
  },
  {
   "cell_type": "code",
   "execution_count": 10,
   "id": "66b2eded-c435-458a-abec-f066fed822e2",
   "metadata": {},
   "outputs": [
    {
     "data": {
      "text/plain": [
       "7671"
      ]
     },
     "execution_count": 10,
     "metadata": {},
     "output_type": "execute_result"
    }
   ],
   "source": [
    "df['url'].nunique()"
   ]
  },
  {
   "cell_type": "code",
   "execution_count": 11,
   "id": "58bb6dbb-d23e-4c74-9a7c-1c620d865bbd",
   "metadata": {},
   "outputs": [
    {
     "data": {
      "text/plain": [
       "75"
      ]
     },
     "execution_count": 11,
     "metadata": {},
     "output_type": "execute_result"
    }
   ],
   "source": [
    "df['price'].nunique()"
   ]
  },
  {
   "cell_type": "code",
   "execution_count": 12,
   "id": "cd162e7f-7040-48a3-9662-4045e8e08597",
   "metadata": {},
   "outputs": [
    {
     "data": {
      "text/plain": [
       "1"
      ]
     },
     "execution_count": 12,
     "metadata": {},
     "output_type": "execute_result"
    }
   ],
   "source": [
    "df['stockState'].nunique()"
   ]
  },
  {
   "cell_type": "code",
   "execution_count": 13,
   "id": "0505b5a1-52df-40c1-b47a-88deb9902ed0",
   "metadata": {},
   "outputs": [
    {
     "data": {
      "text/plain": [
       "array([False])"
      ]
     },
     "execution_count": 13,
     "metadata": {},
     "output_type": "execute_result"
    }
   ],
   "source": [
    "df['comingSoon'].unique()"
   ]
  },
  {
   "cell_type": "code",
   "execution_count": 14,
   "id": "5de0f47c-1da6-4257-be05-3716d85d39e0",
   "metadata": {},
   "outputs": [
    {
     "data": {
      "text/plain": [
       "1"
      ]
     },
     "execution_count": 14,
     "metadata": {},
     "output_type": "execute_result"
    }
   ],
   "source": [
    "df['isOnline'].nunique()"
   ]
  },
  {
   "cell_type": "code",
   "execution_count": 15,
   "id": "2c0ce4d2-9a47-4a67-8885-0b856dc18577",
   "metadata": {},
   "outputs": [
    {
     "data": {
      "text/plain": [
       "955"
      ]
     },
     "execution_count": 15,
     "metadata": {},
     "output_type": "execute_result"
    }
   ],
   "source": [
    "df['colors'].nunique()"
   ]
  },
  {
   "cell_type": "code",
   "execution_count": 16,
   "id": "333f3ef9-1620-41a8-b5d9-6117152fb03a",
   "metadata": {},
   "outputs": [
    {
     "data": {
      "text/plain": [
       "73"
      ]
     },
     "execution_count": 16,
     "metadata": {},
     "output_type": "execute_result"
    }
   ],
   "source": [
    "df['colorShades'].nunique()"
   ]
  },
  {
   "cell_type": "code",
   "execution_count": 17,
   "id": "56f534eb-1654-47d0-a40d-8ec543b405c8",
   "metadata": {},
   "outputs": [
    {
     "data": {
      "text/plain": [
       "array([False,  True])"
      ]
     },
     "execution_count": 17,
     "metadata": {},
     "output_type": "execute_result"
    }
   ],
   "source": [
    "df['newArrival'].unique()"
   ]
  },
  {
   "cell_type": "code",
   "execution_count": 18,
   "id": "942e3286-ed2f-4f27-a998-765fc5154c59",
   "metadata": {
    "scrolled": true
   },
   "outputs": [
    {
     "data": {
      "text/plain": [
       "array(['men_shoes_dressed', 'men_shoes_slippers', 'men_shoes_sneakers',\n",
       "       'men_shoes_boots', 'men_shoes_loafers', 'men_shoes',\n",
       "       'men_shoes_sneakers_hightop', 'ladies_premium_selection_shoes',\n",
       "       'men_shoes_sandals_espandrillos', 'ladies_shoes_ankle_boots',\n",
       "       'ladies_shoes_ballerinas_flats', 'ladies_nightwear_slippers',\n",
       "       'ladies_shoes_sneakers', 'ladies_shoes_heels',\n",
       "       'ladies_shoes_heels_pumps', 'ladies_shoes_pumps_highheels',\n",
       "       'Ladies_shoes_loafers', 'ladies_shoes_sandals_espandrillos',\n",
       "       'ladies_shoes_mules', 'ladies_trousers_culottes',\n",
       "       'ladies_shoes_sandals', 'men_hoodiessweatshirts_sweatshirts',\n",
       "       'men_cardigansjumpers_jumpers',\n",
       "       'men_trousers_trousers_regular_all',\n",
       "       'men_hoodiessweatshirts_hoodies', 'men_jacketscoats_jackets',\n",
       "       'men_shirts_longsleeved', 'men_jeans_loose',\n",
       "       'men_jacketscoats_coats', 'men_trousers_cargo',\n",
       "       'men_trousers_casual', 'men_trousers_dressed',\n",
       "       'men_trousers_chinos_slim_all', 'men_tshirtstanks_longsleeve',\n",
       "       'men_jeans_slim', 'men_cardigansjumpers_turtleneck',\n",
       "       'men_blazerssuits_trousers', 'men_shirts_casual',\n",
       "       'sportswear_men_activity_training_tops', 'men_underwear_trunks',\n",
       "       'men_sport_bottoms_trousers', 'men_jacketscoats_shirtjackets',\n",
       "       'men_jacketscoats_bomberjackets', 'men_blazerssuits_blazers',\n",
       "       'sportswear_men_clothing_tops_tshirts',\n",
       "       'sportswear_men_activity_training_trousers',\n",
       "       'sportswear_men_activity_training_hoodies',\n",
       "       'men_cardigansjumpers_cardigans', 'men_tshirtstanks_multipacks',\n",
       "       'men_shirt_dressed_slimfit', 'men_tshirtstanks_shortsleeve',\n",
       "       'men_tshirtstanks_printed', 'MEN_TSHIRTSTANKS_POLO',\n",
       "       'men_tshirtstanks_tanks', 'men_jeans_regular', 'men_socks_ankle',\n",
       "       'sportswear_men_activity_training_socks',\n",
       "       'sportswear_men_clothing_shorts', 'men_socks_multipacks',\n",
       "       'men_nightwearloungewear_bottoms', 'men_shirt_dressed_regularfit',\n",
       "       'men_jeans_skinny', 'men_shorts_casual', 'men_shirts_shortsleeved',\n",
       "       'men_nightwearloungewear_pyjamas',\n",
       "       'sportswear_men_activity_running_tops',\n",
       "       'men_underwearloungewear_underwear', 'men_socks',\n",
       "       'sportswear_men_activity_skiing',\n",
       "       'men_underwearloungewear_loungewear', 'men_underwear_boxers',\n",
       "       'men_blazerssuits_waistcoats', 'sportswear_men_clothing_tops_vest',\n",
       "       'men_jeans_relaxed', 'men_swimwear_swimshorts',\n",
       "       'men_jacketscoats_denimjackets',\n",
       "       'sportswear_men_clothing_hoodiessweatshirts',\n",
       "       'sportswear_men_activity_running_shorts',\n",
       "       'men_jacketscoats_fleeceteddy', 'men_shorts',\n",
       "       'sportswear_men_activity_running_leggings',\n",
       "       'sportswear_men_activity_training_shorts',\n",
       "       'sportswear_men_clothing_socks',\n",
       "       'sportswear_men_outerwear_jackets_padded',\n",
       "       'sportswear_men_activity_training',\n",
       "       'sportswear_men_activity_running_trousers',\n",
       "       'men_nightwearloungewear_dressing_gowns_bathrobes',\n",
       "       'men_shorts_cargo', 'sportswear_men_activity_watersports',\n",
       "       'sportswear_men_activity_hiking_jacketsvests',\n",
       "       'men_sport_bottoms_shorts', 'sportswear_men_outerwear_jackets',\n",
       "       'sportswear_men_outerwear_vest', 'men_sport_tops',\n",
       "       'men_shorts_chinos', 'men_tshirtstanks',\n",
       "       'sportswear_men_activity_racketsports', 'men_shorts_denim',\n",
       "       'men_trousers_chinos_regular_all', 'men_hoodiessweatshirts',\n",
       "       'ladies_jacketscoats_jackets',\n",
       "       'sportswear_men_activity_hiking_trousersleggings',\n",
       "       'ladies_hoodiesswetshirts_hoodies', 'men_shirts_linenshirts',\n",
       "       'ladies_trousers_joggers', 'ladies_jeans_loose',\n",
       "       'sportswear_men_clothing_tops_longsleeve',\n",
       "       'sportswear_men_outerwear_fleece',\n",
       "       'ladies_basics_trousersleggings',\n",
       "       'ladies_cardigansjumpers_jumpers',\n",
       "       'ladies_basics_tops_shortsleeve', 'ladies_trousers_dressed',\n",
       "       'ladies_cardigansjumpers_cardigans',\n",
       "       'ladies_basics_tops_longsleeve', 'ladies_trousers_chinosslacks',\n",
       "       'ladies_premium_selection', 'ladies_jeans_straight',\n",
       "       'ladies_jacketscoats_coats', 'ladies_dresses_party',\n",
       "       'ladies_basics_dressesskirts', 'ladies_dresses_knitted',\n",
       "       'ladies_blazerswaistcoats_fitted', 'ladies_jacketscoats_biker',\n",
       "       'ladies_trousers_highwaisted', 'ladies_dresses_bodycon',\n",
       "       'ladies_skirts_shortskirts', 'ladies_tops_longsleeve',\n",
       "       'ladies_shirtsblouses_blouses', 'ladies_tops_shortsleeve',\n",
       "       'ladies_nightwear_pyjamas', 'ladies_shirtsblouses_shirts',\n",
       "       'ladies_tops_printed_tshirts', 'ladies_trousers', 'ladies_tops',\n",
       "       'ladies_dresses_mididresses',\n",
       "       'ladies_hoodiesswetshirts_sweatshirts',\n",
       "       'Ladies_skirts_highwaisted', 'ladies_trousers_wideleg',\n",
       "       'ladies_skirts_longskirts',\n",
       "       'ladies_blazerswaistcoats_doublebreasted', 'ladies_tops_vests',\n",
       "       'ladies_accessories_scarves', 'ladies_shirtsblouses_denimshirts',\n",
       "       'ladies_tops_bodys', 'ladies_blazers', 'ladies_skirts_midiskirts',\n",
       "       'ladies_dresses_aline', 'ladies_sockstights_socks',\n",
       "       'ladies_trousers_leggings', 'ladies_nightwear_loungewear',\n",
       "       'ladies_accessories_sunglasses',\n",
       "       'ladies_accessories_jewellery_earrings',\n",
       "       'ladies_accessories_hats_beanies', 'Ladies_skirts_denim',\n",
       "       'ladies_dresses_backless', 'ladies_maternity_nursing_tops',\n",
       "       'ladies_trousers_flare', 'ladies_maternity_bottoms',\n",
       "       'ladies_lingerie_briefsknickers_bikinibriefs',\n",
       "       'ladies_accessories_hairaccessories',\n",
       "       'ladies_swimwear_bikinisets_bottoms',\n",
       "       'ladies_maternity_nursing_bra', 'ladies_jumpsuits_long',\n",
       "       'ladies_tops_croppedtops',\n",
       "       'ladies_accessories_jewellery_necklaces', 'ladies_maternity_tops',\n",
       "       'ladies_lingerie_bodiescorsets', 'ladies_swimwear_bikinisets_tops',\n",
       "       'ladies_accessories_bags_crossbodybags',\n",
       "       'ladies_maternity_cardigansjumpers',\n",
       "       'ladies_accessories_jewellery_bracelets',\n",
       "       'ladies_lingerie_shapewear_bodysuits',\n",
       "       'ladies_lingerie_briefsknickers_multipack',\n",
       "       'ladies_maternity_dresses',\n",
       "       'sportswear_women_clothing_tops_longsleeve',\n",
       "       'ladies_lingerie_briefsknickers_hipster', 'beauty_makeupbagscases',\n",
       "       'sportswear_women_outerwear_jackets_anorak',\n",
       "       'sportswear_women_clothing_tops_crop', 'ladies_accessories',\n",
       "       'ladies_accessories_sarongsponchos',\n",
       "       'ladies_maternity_lingerietights', 'ladies_dresses_shortdresses',\n",
       "       'sportswear_women_activity_training_leggings',\n",
       "       'ladies_trousers_puleather',\n",
       "       'ladies_lingerie_briefsknickers_shortiehighwaist',\n",
       "       'ladies_swimwear_swimsuits',\n",
       "       'ladies_accessories_bags_shoulderbags',\n",
       "       'ladies_lingerie_briefsknickers_thong',\n",
       "       'ladies_lingerie_bras_padded',\n",
       "       'sportswear_women_clothing_tops_tshirts',\n",
       "       'ladies_accessories_bags_shoppertotes',\n",
       "       'ladies_lingerie_bras_nonpadded', 'Ladies_skirts_a-line',\n",
       "       'ladies_accessories_gloves',\n",
       "       'sportswear_women_activity_training_hoodiessweaters',\n",
       "       'ladies_accessories_bags', 'ladies_maternity_nightwearloungewear',\n",
       "       'ladies_sport_tops_longsleeve', 'ladies_jacketscoats_denim',\n",
       "       'ladies_premium_selection_cardigansjumpers',\n",
       "       'ladies_lingerie_briefsknickers_brazilian',\n",
       "       'ladies_sockstights_tightleggings', 'Ladies_shorts_highwaisted',\n",
       "       'ladies_jeans_skinny', 'ladies_jacketscoats_vests_puffer',\n",
       "       'ladies_accessories_belts', 'ladies_lingerie_shapewear_tights',\n",
       "       'ladies_lingerie_bras_balconette',\n",
       "       'home_outdoor_beachtowelsandbags', 'ladies_dresses_maxidresses',\n",
       "       'ladies_accessories_jewellery_rings', 'ladies_jeans_flare',\n",
       "       'ladies_jeans_wide', 'sportswear_women_clothing_socks',\n",
       "       'ladies_basics_cardigansjumpers',\n",
       "       'ladies_premium_selection_accessories',\n",
       "       'ladies_lingerie_bras_multipack', 'ladies_sport_bottoms_trousers',\n",
       "       'ladies_dresses_oneshoulder', 'ladies_trousers_cargo',\n",
       "       'ladies_blazerswaistcoats_oversized', 'ladies_basics_lingerie',\n",
       "       'ladies_tops_lowcut', 'ladies_basics_tops_vests',\n",
       "       'ladies_accessories_hats', 'ladies_jeans_curvy',\n",
       "       'ladies_accessories_hats_buckethats', 'home_homewear',\n",
       "       'ladies_accessories_bags_phonebags', 'ladies_divided',\n",
       "       'ladies_maternity_jeans',\n",
       "       'sportswear_women_activity_training_shorts',\n",
       "       'ladies_lingerie_shapewear',\n",
       "       'sportswear_women_activity_training_tops',\n",
       "       'sportswear_women_activity_yoga_bras',\n",
       "       'ladies_accessories_bags_handbags', 'beauty_fragrance_bodymist',\n",
       "       'sportswear_women_activity_yoga_leggings',\n",
       "       'sportswear_women_activity_training_jacketvest',\n",
       "       'ladies_dresses_shirt', 'sportswear_women_activity_training_bra',\n",
       "       'ladies_beauty_hair', 'ladies_sockstights_socks_ankle',\n",
       "       'ladies_sockstights_socks_kneehigh', 'ladies_jeans',\n",
       "       'sportswear_women_activity_training_socks', 'ladies_plus_bottoms',\n",
       "       'kids_boys_clothing_takecare', 'ladies_maternity', 'ladies_shorts',\n",
       "       'sportswear_women_activity_running_trousers',\n",
       "       'sportswear_women_activity_hiking_jacketvest',\n",
       "       'ladies_accessories_hats_caps',\n",
       "       'sportswear_women_activity_training_accessories',\n",
       "       'sportswear_women_activity_yoga_tops',\n",
       "       'sportswear_women_clothing_leggingstights_highwaist',\n",
       "       'beauty_makeup_lips_lipgloss', 'ladies_basics',\n",
       "       'sportswear_women_activity_running_tops', 'ladies_basics_tops',\n",
       "       'sportswear_women_clothing_sportbra_medium',\n",
       "       'ladies_lingerie_accessories',\n",
       "       'sportswear_women_clothing_sportbra_light',\n",
       "       'ladies_beauty_makeupbagstravel',\n",
       "       'ladies_maternity_nursing_dresses',\n",
       "       'sportswear_women_activity_yoga',\n",
       "       'sportswear_women_activity_running_accessories',\n",
       "       'beauty_makeup_face_bronzers', 'ladies_maternity_shirtsblouses',\n",
       "       'beauty_makeup_eyes_eyeshadow', 'ladies_dresses_beachdresses',\n",
       "       'beauty_nails_fakenailsaccessories', 'beauty_nails_nailpolish',\n",
       "       'beauty_makeup_eyes_eyebrow', 'ladies_lingerie',\n",
       "       'sportswear_women_activity_running_jacketsvest',\n",
       "       'ladies_premium_selection_tops', 'beauty_makeup_eyes_mascara',\n",
       "       'beauty_makeup_makeupbrusherstools_makeupbrushes',\n",
       "       'sportswear_men_activity_hiking_accessories',\n",
       "       'ladies_nightwear_nightslips',\n",
       "       'beauty_makeup_makeupbrusherstools_spongesapplicators',\n",
       "       'ladies_accessories_bags_beachbags',\n",
       "       'ladies_accessories_jewellery',\n",
       "       'ladies_premium_selection_jacketscoats',\n",
       "       'ladies_maternity_jacketsblazers',\n",
       "       'sportswear_women_clothing_shortsskirts_skirts',\n",
       "       'ladies_maternity_nursing', 'beauty_makeup_face_powder',\n",
       "       'beauty_haircare_accessories', 'beauty_makeup_face_blushers',\n",
       "       'ladies_jeans_bootcut', 'ladies_accessories_hats_hats',\n",
       "       'ladies_lingerie_bras_pushup', 'sportswear_women_outerwear_fleece',\n",
       "       'ladies_lingerie_bras_stickon',\n",
       "       'sportswear_women_clothing_sportbra_high',\n",
       "       'ladies_plus_lingerietights',\n",
       "       'beauty_makeup_makeupbrusherstools_makeuptools',\n",
       "       'beauty_makeup_face_highlighter',\n",
       "       'sportswear_women_activity_skiing', 'beauty_makeup_eyes_eyeliner',\n",
       "       'ladies_sport_sportaccessories',\n",
       "       'sportswear_women_activity_racketsports', 'ladies_dresses_denim',\n",
       "       'ladies_beauty_nails_nailpolish',\n",
       "       'ladies_shirtblouses_offshoulderblouses',\n",
       "       'ladies_beauty_nails_nailcareaccessories', 'beauty_nails_nailcare',\n",
       "       'beauty_makeup_lips_lipbalmcare',\n",
       "       'sportswear_women_activity_hiking_trousersleggings',\n",
       "       'ladies_beauty_lips', 'sportswear_women_activity_training',\n",
       "       'ladies_beauty_eyes_eyeshadow',\n",
       "       'home_bathshower_accessories_bathroomaccessories',\n",
       "       'ladies_beauty_lips_lipgloss', 'ladies_premium_selection_dresses',\n",
       "       'ladies_beauty_eyes_mascaralashes',\n",
       "       'home_bedlinen_duvetscoversets', 'ladies_tops_offshouldertops',\n",
       "       'ladies_accessories_bags_backpack',\n",
       "       'sportswear_men_activity_hiking', 'beauty_bodybath_bathshower',\n",
       "       'ladies_shorts_jeans', 'beauty_brushestools_skincaretools',\n",
       "       'ladies_tops_corsetsbustier', 'ladies_dresses_lace',\n",
       "       'sportswear_women_clothing_shortsskirts_biker',\n",
       "       'ladies_jacketscoats_vests', 'ladies_shoes',\n",
       "       'ladies_jumpsuits_short', 'ladies_jacketscoats_bomber',\n",
       "       'sportswear_women_activity_running_bra',\n",
       "       'ladies_sport_bottoms_shorts', 'ladies_jacketscoats_parkas',\n",
       "       'ladies_swimwear_beachwear', 'ladies_lingerie_bras_softwireless',\n",
       "       'ladies_trousers_linentrousers', 'ladies_skirts_pleated',\n",
       "       'ladies_sport_tops_vest',\n",
       "       'sportswear_women_outerwear_jackets_padded',\n",
       "       'sportswear_men_activity_running_accessories',\n",
       "       'sportswear_women_activity_running_leggings',\n",
       "       'sportswear_women_outerwear_vest', 'ladies_dresses_kaftan',\n",
       "       'sportswear_women_outerwear_jackets_shell',\n",
       "       'sportswear_women_activity_hiking', 'ladies_divided_dresses',\n",
       "       'ladies_premium_selection_bottoms',\n",
       "       'ladies_nightwear_dressing_gowns',\n",
       "       'sportswear_women_outerwear_jackets_rain',\n",
       "       'ladies_maternity_swimwear',\n",
       "       'sportswear_women_activity_watersports',\n",
       "       'sportswear_women_clothing_tops_tanks'], dtype=object)"
      ]
     },
     "execution_count": 18,
     "metadata": {},
     "output_type": "execute_result"
    }
   ],
   "source": [
    "df['mainCatCode'].unique()"
   ]
  },
  {
   "cell_type": "code",
   "execution_count": 19,
   "id": "7b2d5bc4-9f43-42ae-a2b5-49e8f0c15f76",
   "metadata": {},
   "outputs": [
    {
     "data": {
      "text/plain": [
       "4511"
      ]
     },
     "execution_count": 19,
     "metadata": {},
     "output_type": "execute_result"
    }
   ],
   "source": [
    "df['materials'].nunique()"
   ]
  },
  {
   "cell_type": "code",
   "execution_count": 20,
   "id": "264a8b44-e994-48df-b434-437ba84a7094",
   "metadata": {},
   "outputs": [
    {
     "data": {
      "text/plain": [
       "8239"
      ]
     },
     "execution_count": 20,
     "metadata": {},
     "output_type": "execute_result"
    }
   ],
   "source": [
    "df['details'].nunique()"
   ]
  },
  {
   "cell_type": "code",
   "execution_count": 21,
   "id": "549460f6-ab49-4db0-b116-d59b61730864",
   "metadata": {},
   "outputs": [
    {
     "data": {
      "text/plain": [
       "0"
      ]
     },
     "execution_count": 21,
     "metadata": {},
     "output_type": "execute_result"
    }
   ],
   "source": [
    "df.duplicated().sum() #checking duplicate"
   ]
  },
  {
   "cell_type": "markdown",
   "id": "deef4a02-95da-4377-bb7f-f1013f67f558",
   "metadata": {},
   "source": [
    "# Data Cleaning"
   ]
  },
  {
   "cell_type": "code",
   "execution_count": 23,
   "id": "e016bce7-9fd0-4437-ad83-9c2f4cc74f22",
   "metadata": {},
   "outputs": [],
   "source": [
    "df.drop(columns=['colorShades'],inplace=True)"
   ]
  },
  {
   "cell_type": "code",
   "execution_count": 24,
   "id": "5e864cbb-5682-492d-978e-a7e4587aaa4a",
   "metadata": {},
   "outputs": [],
   "source": [
    "df = df.rename(columns={'Unnamed: 0': 'index'})"
   ]
  },
  {
   "cell_type": "code",
   "execution_count": 25,
   "id": "da45777e-7321-44dc-b0fb-f58b728a84c1",
   "metadata": {},
   "outputs": [],
   "source": [
    "df.dropna(inplace=True)"
   ]
  },
  {
   "cell_type": "markdown",
   "id": "bb0bfbcd-6fc8-42ec-938c-afa5bdea2a04",
   "metadata": {},
   "source": [
    "# Modeling"
   ]
  },
  {
   "cell_type": "code",
   "execution_count": 27,
   "id": "242e9196-828a-4450-8c17-3799acfb40f2",
   "metadata": {},
   "outputs": [],
   "source": [
    "from sklearn.feature_extraction.text import TfidfVectorizer\n",
    "vect = TfidfVectorizer()\n",
    "df1 = vect.fit_transform(df['colorName'])\n",
    "df1=df1.toarray()"
   ]
  },
  {
   "cell_type": "code",
   "execution_count": 28,
   "id": "45b49484-06bc-4eb1-a893-21a90ddc59da",
   "metadata": {},
   "outputs": [],
   "source": [
    "df2 = vect.fit_transform(df['colors'])\n",
    "df2=df2.toarray()"
   ]
  },
  {
   "cell_type": "code",
   "execution_count": 29,
   "id": "9de255ad-870f-4550-be3a-d2462ada81ea",
   "metadata": {},
   "outputs": [],
   "source": [
    "df3 = vect.fit_transform(df['mainCatCode'])\n",
    "df3=df3.toarray()"
   ]
  },
  {
   "cell_type": "code",
   "execution_count": 30,
   "id": "361e2cb5-df84-448e-afd6-ec2a722902ff",
   "metadata": {},
   "outputs": [],
   "source": [
    "df4 = vect.fit_transform(df['details'])\n",
    "df4=df4.toarray()"
   ]
  },
  {
   "cell_type": "code",
   "execution_count": 31,
   "id": "d9573444-7ff7-4663-864b-a0db14aa469d",
   "metadata": {},
   "outputs": [],
   "source": [
    "df5 = vect.fit_transform(df['materials'])\n",
    "df5=df5.toarray()"
   ]
  },
  {
   "cell_type": "code",
   "execution_count": 32,
   "id": "159ec13e-8f5c-489b-ad99-898fc3b4eb0b",
   "metadata": {},
   "outputs": [],
   "source": [
    "df_mod = np.concatenate([df1,df2,df3,df4,df5,],axis=1)"
   ]
  },
  {
   "cell_type": "markdown",
   "id": "fa9353a9-fcde-4c9c-ae8d-9310990ceed1",
   "metadata": {},
   "source": [
    "- **cosine similerity**"
   ]
  },
  {
   "cell_type": "code",
   "execution_count": 34,
   "id": "f54eb975-27cf-46a9-8454-a2e4f2f11754",
   "metadata": {},
   "outputs": [
    {
     "name": "stdout",
     "output_type": "stream",
     "text": [
      "[[1.         0.51394166 0.95777187 ... 0.06391613 0.18300812 0.07348886]\n",
      " [0.51394166 1.         0.51837323 ... 0.0646482  0.16947978 0.07666309]\n",
      " [0.95777187 0.51837323 1.         ... 0.06921335 0.18888145 0.09342122]\n",
      " ...\n",
      " [0.06391613 0.0646482  0.06921335 ... 1.         0.18348958 0.21866108]\n",
      " [0.18300812 0.16947978 0.18888145 ... 0.18348958 1.         0.14155766]\n",
      " [0.07348886 0.07666309 0.09342122 ... 0.21866108 0.14155766 1.        ]]\n"
     ]
    }
   ],
   "source": [
    "from sklearn. metrics.pairwise import cosine_similarity\n",
    "similarity = cosine_similarity(df_mod)\n",
    "print(similarity)"
   ]
  },
  {
   "cell_type": "code",
   "execution_count": 35,
   "id": "14662bf5-a2e0-4ffc-b9ad-715a88f3474f",
   "metadata": {},
   "outputs": [
    {
     "data": {
      "text/plain": [
       "(9517, 9517)"
      ]
     },
     "execution_count": 35,
     "metadata": {},
     "output_type": "execute_result"
    }
   ],
   "source": [
    "similarity.shape"
   ]
  },
  {
   "cell_type": "markdown",
   "id": "254e7ad6-7533-4458-a36f-24445c8842a1",
   "metadata": {},
   "source": [
    "- **Creating a list**"
   ]
  },
  {
   "cell_type": "code",
   "execution_count": 37,
   "id": "056b9c35-0167-4542-a933-2399985e4f23",
   "metadata": {},
   "outputs": [],
   "source": [
    "list_of_item = df['productName'].tolist()"
   ]
  },
  {
   "cell_type": "code",
   "execution_count": null,
   "id": "31107b88-c1cd-40d5-9809-58aa88d7ea39",
   "metadata": {},
   "outputs": [],
   "source": [
    "Item_search = input(\"Search the Product:\")"
   ]
  },
  {
   "cell_type": "code",
   "execution_count": null,
   "id": "ffa873ce-8b14-4715-8397-446c110f4a5f",
   "metadata": {},
   "outputs": [],
   "source": [
    "import difflib\n",
    "find_close_match = difflib.get_close_matches(Item_search, list_of_item)\n",
    "print(find_close_match)"
   ]
  },
  {
   "cell_type": "code",
   "execution_count": null,
   "id": "251bbe9e-c346-41d3-85f9-01f4b5e66455",
   "metadata": {},
   "outputs": [],
   "source": [
    "close_match = find_close_match[0]\n",
    "print(close_match)"
   ]
  },
  {
   "cell_type": "code",
   "execution_count": null,
   "id": "7cf2cc24-9d81-433b-89d0-035f3b02a7ba",
   "metadata": {},
   "outputs": [],
   "source": [
    "index_of_Item = df[df['productName'] == close_match]['index'].tolist()[0]\n",
    "index_of_Item"
   ]
  },
  {
   "cell_type": "code",
   "execution_count": null,
   "id": "b0d6f56b-7bff-43fd-8a1b-d031cc6c93b5",
   "metadata": {
    "scrolled": true
   },
   "outputs": [],
   "source": [
    "similarity_score = list(enumerate(similarity[index_of_Item]))\n",
    "print(similarity_score)"
   ]
  },
  {
   "cell_type": "code",
   "execution_count": null,
   "id": "e0b8f6be-3311-4f24-9459-1582069ce27a",
   "metadata": {},
   "outputs": [],
   "source": [
    "a=[]\n",
    "for i in similarity_score:\n",
    "    if (i[1] >= 0.75):\n",
    "        a.append(i[0])"
   ]
  },
  {
   "cell_type": "code",
   "execution_count": null,
   "id": "e63449e6-ceed-47eb-ae0c-15b2e5989b67",
   "metadata": {},
   "outputs": [],
   "source": [
    "a"
   ]
  },
  {
   "cell_type": "code",
   "execution_count": null,
   "id": "0122a34e-4785-49f6-9002-8ae121c74065",
   "metadata": {},
   "outputs": [],
   "source": [
    "df0=pd.DataFrame({})\n",
    "for item in a:\n",
    "    df0[item] = df.loc[item][['productName','price','url']]"
   ]
  },
  {
   "cell_type": "code",
   "execution_count": null,
   "id": "18dc5f03-61aa-40ca-b984-da21aebca318",
   "metadata": {},
   "outputs": [],
   "source": [
    "df0.T"
   ]
  }
 ],
 "metadata": {
  "kernelspec": {
   "display_name": "Python [conda env:base] *",
   "language": "python",
   "name": "conda-base-py"
  },
  "language_info": {
   "codemirror_mode": {
    "name": "ipython",
    "version": 3
   },
   "file_extension": ".py",
   "mimetype": "text/x-python",
   "name": "python",
   "nbconvert_exporter": "python",
   "pygments_lexer": "ipython3",
   "version": "3.12.7"
  }
 },
 "nbformat": 4,
 "nbformat_minor": 5
}
